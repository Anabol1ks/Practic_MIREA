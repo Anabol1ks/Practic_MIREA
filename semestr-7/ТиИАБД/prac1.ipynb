{
 "cells": [
  {
   "cell_type": "markdown",
   "id": "b90a8de1",
   "metadata": {},
   "source": [
    "### Задание 2"
   ]
  },
  {
   "cell_type": "code",
   "execution_count": 3,
   "id": "7b6af28f",
   "metadata": {},
   "outputs": [
    {
     "name": "stdout",
     "output_type": "stream",
     "text": [
      "{'треугольник': 17.320508075688775}\n",
      "{'прямоугольник': 15}\n",
      "{'круг': 254.46900494077323}\n"
     ]
    }
   ],
   "source": [
    "def calculate_area(shape, **params):\n",
    "  areas = {}\n",
    "  if shape == 'треугольник':\n",
    "    a, b, c = params['a'], params['b'], params['c']\n",
    "    s = (a + b + c) / 2\n",
    "    area = (s * (s - a) * (s - b) * (s - c)) ** 0.5\n",
    "    areas['треугольник'] = area\n",
    "  elif shape == 'прямоугольник':\n",
    "    area = params['width'] * params['height']\n",
    "    areas['прямоугольник'] = area\n",
    "  elif shape == 'круг':\n",
    "    import math\n",
    "    area = math.pi * params['radius'] ** 2\n",
    "    areas['круг'] = area\n",
    "  return areas\n",
    "\n",
    "# Примеры использования:\n",
    "print(calculate_area('треугольник', a=5, b=7, c=8))\n",
    "print(calculate_area('прямоугольник', width=3, height=5))\n",
    "print(calculate_area('круг', radius=9))"
   ]
  },
  {
   "cell_type": "markdown",
   "id": "5096ccb5",
   "metadata": {},
   "source": [
    "### Задание 3"
   ]
  },
  {
   "cell_type": "code",
   "execution_count": 4,
   "id": "12dd909e",
   "metadata": {},
   "outputs": [
    {
     "name": "stdout",
     "output_type": "stream",
     "text": [
      "Результат: -3.0\n"
     ]
    }
   ],
   "source": [
    "def calculate(a, b, operation):\n",
    "  if operation == '+':\n",
    "    return a + b\n",
    "  elif operation == '-':\n",
    "    return a - b\n",
    "  elif operation == '/':\n",
    "    return a / b\n",
    "  elif operation == '//':\n",
    "    return a // b\n",
    "  elif operation == 'abs':\n",
    "    return abs(a), abs(b)\n",
    "  elif operation in ('pow', '**'):\n",
    "    return a ** b\n",
    "  else:\n",
    "    return \"Некорректная операция\"\n",
    "\n",
    "a = float(input(\"Введите первое число: \"))\n",
    "b = float(input(\"Введите второе число: \"))\n",
    "operation = input(\"Введите операцию (+, -, /, //, abs, pow, **): \")\n",
    "result = calculate(a, b, operation)\n",
    "print(\"Результат:\", result)"
   ]
  },
  {
   "cell_type": "markdown",
   "id": "ee625cbe",
   "metadata": {},
   "source": [
    "### Задание 4"
   ]
  },
  {
   "cell_type": "code",
   "execution_count": 8,
   "id": "7b02cfba",
   "metadata": {},
   "outputs": [
    {
     "name": "stdout",
     "output_type": "stream",
     "text": [
      "Сумма квадратов введённых чисел: 168.0\n"
     ]
    }
   ],
   "source": [
    "numbers = []\n",
    "total = 0\n",
    "\n",
    "while True:\n",
    "  num = float(input(\"Введите число: \"))\n",
    "  numbers.append(num)\n",
    "  total += num\n",
    "  if total == 0:\n",
    "    break\n",
    "\n",
    "sum_of_squares = sum(x ** 2 for x in numbers)\n",
    "print(\"Сумма квадратов введённых чисел:\", sum_of_squares)"
   ]
  },
  {
   "cell_type": "markdown",
   "id": "d8c50910",
   "metadata": {},
   "source": [
    "### Задание 5"
   ]
  },
  {
   "cell_type": "code",
   "execution_count": null,
   "id": "750635a7",
   "metadata": {},
   "outputs": [
    {
     "name": "stdout",
     "output_type": "stream",
     "text": [
      "1 2 2 3 3 3 4 4 4 4 5 5 5\n"
     ]
    }
   ],
   "source": [
    "N = int(input(\"Введите неотрицательное целое число N: \"))\n",
    "sequence = []\n",
    "num = 1\n",
    "while len(sequence) < N:\n",
    "  sequence.extend([num] * num)\n",
    "  num += 1\n",
    "print(*sequence[:N])"
   ]
  },
  {
   "cell_type": "markdown",
   "id": "bd94abae",
   "metadata": {},
   "source": [
    "### Задание 6"
   ]
  },
  {
   "cell_type": "code",
   "execution_count": null,
   "id": "f2976c72",
   "metadata": {},
   "outputs": [
    {
     "name": "stdout",
     "output_type": "stream",
     "text": [
      "{'a': 17, 'b': 11, 'c': 17}\n"
     ]
    }
   ],
   "source": [
    "A = [1, 2, 3, 4, 2, 1, 3, 4, 5, 6, 5, 4, 3, 2]\n",
    "B = ['a', 'b', 'c', 'c', 'c', 'b', 'a', 'c', 'a', 'a', 'b', 'c', 'b', 'a']\n",
    "\n",
    "result_dict = {}\n",
    "for value, key in zip(A, B):\n",
    "  result_dict[key] = result_dict.get(key, 0) + value\n",
    "print(result_dict)"
   ]
  },
  {
   "cell_type": "markdown",
   "id": "8b4737d8",
   "metadata": {},
   "source": [
    "### Задание 7"
   ]
  },
  {
   "cell_type": "code",
   "execution_count": null,
   "id": "f09a420c",
   "metadata": {},
   "outputs": [
    {
     "name": "stdout",
     "output_type": "stream",
     "text": [
      "№8\n",
      "<class 'pandas.core.frame.DataFrame'>\n",
      "RangeIndex: 20640 entries, 0 to 20639\n",
      "Data columns (total 8 columns):\n",
      " #   Column      Non-Null Count  Dtype  \n",
      "---  ------      --------------  -----  \n",
      " 0   MedInc      20640 non-null  float64\n",
      " 1   HouseAge    20640 non-null  float64\n",
      " 2   AveRooms    20640 non-null  float64\n",
      " 3   AveBedrms   20640 non-null  float64\n",
      " 4   Population  20640 non-null  float64\n",
      " 5   AveOccup    20640 non-null  float64\n",
      " 6   Latitude    20640 non-null  float64\n",
      " 7   Longitude   20640 non-null  float64\n",
      "dtypes: float64(8)\n",
      "memory usage: 1.3 MB\n",
      "№9\n",
      "MedInc        0\n",
      "HouseAge      0\n",
      "AveRooms      0\n",
      "AveBedrms     0\n",
      "Population    0\n",
      "AveOccup      0\n",
      "Latitude      0\n",
      "Longitude     0\n",
      "dtype: int64\n",
      "№10\n",
      "       MedInc  HouseAge  AveRooms  AveBedrms  Population    AveOccup  \\\n",
      "460    1.4012      52.0  3.105714   1.060000      3337.0    9.534286   \n",
      "4131   3.5349      52.0  4.646119   1.047945      2589.0    5.910959   \n",
      "4440   2.6806      52.0  4.806283   1.057592      3062.0    4.007853   \n",
      "5986   1.8750      52.0  4.500000   1.206349      2688.0   21.333333   \n",
      "7369   3.1901      52.0  4.730942   1.017937      3731.0    4.182735   \n",
      "8227   2.3305      52.0  3.488860   1.170380      3018.0    3.955439   \n",
      "13034  6.1359      52.0  8.275862   1.517241      6675.0  230.172414   \n",
      "15634  1.8295      52.0  2.628169   1.053521      2957.0    4.164789   \n",
      "15652  0.9000      52.0  2.237474   1.053535      3260.0    2.237474   \n",
      "15657  2.5166      52.0  2.839075   1.184049      3436.0    1.621520   \n",
      "15659  1.7240      52.0  2.278566   1.082348      4518.0    1.780142   \n",
      "15795  2.5755      52.0  3.402576   1.058776      2619.0    2.108696   \n",
      "15868  2.8135      52.0  4.584329   1.041169      2987.0    3.966799   \n",
      "\n",
      "       Latitude  Longitude  \n",
      "460       37.87    -122.26  \n",
      "4131      34.13    -118.20  \n",
      "4440      34.08    -118.21  \n",
      "5986      34.10    -117.71  \n",
      "7369      33.97    -118.21  \n",
      "8227      33.78    -118.20  \n",
      "13034     38.69    -121.15  \n",
      "15634     37.80    -122.41  \n",
      "15652     37.80    -122.41  \n",
      "15657     37.79    -122.41  \n",
      "15659     37.79    -122.41  \n",
      "15795     37.77    -122.42  \n",
      "15868     37.76    -122.41  \n",
      "№11\n",
      "Максимальная стоимость: 5.00001\n",
      "Минимальная стоимость: 0.14999\n",
      "№12\n",
      "MedInc: 3.8706710029069766\n",
      "HouseAge: 28.639486434108527\n",
      "AveRooms: 5.428999742190376\n",
      "AveBedrms: 1.096675149606208\n",
      "Population: 1425.4767441860465\n",
      "AveOccup: 3.0706551594363742\n",
      "Latitude: 35.63186143410853\n",
      "Longitude: -119.56970445736432\n"
     ]
    }
   ],
   "source": [
    "from sklearn.datasets import fetch_california_housing\n",
    "data = fetch_california_housing(as_frame=True)\n",
    "# 8. Использовать метод info().\n",
    "print(\"№8\")\n",
    "data.data.info()\n",
    "\n",
    "# 9. Узнать, есть ли пропущенные значения, используя isna().sum().\n",
    "print(\"№9\")\n",
    "print(data.data.isna().sum())\n",
    "\n",
    "# 10. Вывести записи, где средний возраст домов в районе более 50 лет и население более 2500 человек\n",
    "print(\"№10\")\n",
    "filtered = data.data.loc[(data.data['HouseAge'] > 50) & (data.data['Population'] > 2500)]\n",
    "print(filtered)\n",
    "\n",
    "# 11. Узнать максимальное и минимальное значения медианной стоимости дома.\n",
    "print(\"№11\")\n",
    "print(\"Максимальная стоимость:\", data.target.max())\n",
    "print(\"Минимальная стоимость:\", data.target.min())\n",
    "\n",
    "# 12. Используя метод apply(), вывести на экран название признака и его среднее значение.\n",
    "print(\"№12\")\n",
    "means = data.data.apply('mean')\n",
    "for feature, mean_value in means.items():\n",
    "  print(f\"{feature}: {mean_value}\")"
   ]
  },
  {
   "cell_type": "markdown",
   "id": "89e29bcf",
   "metadata": {},
   "source": [
    "### Задание 1*"
   ]
  },
  {
   "cell_type": "code",
   "execution_count": null,
   "id": "1b80156a",
   "metadata": {},
   "outputs": [
    {
     "name": "stdout",
     "output_type": "stream",
     "text": [
      ".. --. -. .. - .. --- -.  \n",
      "  … . --.- ..- . -. -.-. .  \n",
      "  … - .- .-. -\n"
     ]
    }
   ],
   "source": [
    "morze = {'a': '.-', 'b': '-…', 'c': '-.-.', 'd': '-..',\n",
    "     'e': '.', 'f': '..-.', 'g': '--.', 'h': '….',\n",
    "     'i': '..', 'j': '.---', 'k': '-.-', 'l': '.-..',\n",
    "     'm': '--', 'n': '-.', 'o': '---', 'p': '.--.',\n",
    "     'q': '--.-', 'r': '.-.', 's': '…', 't': '-',\n",
    "     'u': '..-', 'v': '…-', 'w': '.--', 'x': '-..-',\n",
    "     'y': '-.--', 'z': '--..'}\n",
    "\n",
    "def encode_morse(text):\n",
    "  text = text.lower()\n",
    "  encoded = []\n",
    "  for char in text:\n",
    "    if char in morze:\n",
    "      encoded.append(morze[char])\n",
    "    elif char == ' ':\n",
    "      encoded.append(' \\n ')\n",
    "  return ' '.join(encoded)\n",
    "\n",
    "e_text = str(input(\"Введите текст на английском: \"))\n",
    "print(encode_morse(e_text))"
   ]
  },
  {
   "cell_type": "code",
   "execution_count": null,
   "id": "0205f48d",
   "metadata": {},
   "outputs": [],
   "source": []
  },
  {
   "cell_type": "markdown",
   "id": "a4293715",
   "metadata": {},
   "source": [
    "### Задание 2*"
   ]
  },
  {
   "cell_type": "code",
   "execution_count": null,
   "id": "7a4356ba",
   "metadata": {},
   "outputs": [
    {
     "name": "stdout",
     "output_type": "stream",
     "text": [
      "OK\n",
      "b1\n",
      "b2\n",
      "OK\n",
      "bhnqaptmp1\n",
      "bhnqaptmp2\n",
      "bhnqaptmp3\n",
      "bhnqaptmp4\n",
      "bhnqaptmp5\n",
      "bhnqaptmp6\n",
      "bhnqaptmp7\n",
      "bhnqaptmp8\n",
      "bhnqaptmp9\n",
      "OK\n",
      "fpqhfouqdldravpjttarh1\n",
      "fpqhfouqdldravpjttarh2\n",
      "fpqhfouqdldravpjttarh3\n",
      "fpqhfouqdldravpjttarh4\n",
      "fpqhfouqdldravpjttarh5\n",
      "OK\n",
      "fpqhfouqdldravpjttarh6\n",
      "jmvlplnrmba1\n",
      "fpqhfouqdldravpjttarh7\n"
     ]
    }
   ],
   "source": [
    "def run_block(n: int):\n",
    "    db = {}  # имя -> следующий суффикс\n",
    "    for i in range(n):\n",
    "        name = input(f\"({i+1}/{n}) Логин: \").strip()\n",
    "        if name in db:\n",
    "            k = db[name]\n",
    "            new_name = f\"{name}{k}\"\n",
    "            print(new_name)\n",
    "            db[name] = k + 1\n",
    "            db[new_name] = 1\n",
    "        else:\n",
    "            print(\"OK\")\n",
    "            db[name] = 1\n",
    "\n",
    "def main():\n",
    "    while True:\n",
    "        line = input(\"Сколько логинов? (Enter — выход): \").strip()\n",
    "        if not line:\n",
    "            break\n",
    "        try:\n",
    "            n = int(line)\n",
    "        except ValueError:\n",
    "            print(\"Введите целое число.\")\n",
    "            continue\n",
    "        run_block(n)\n",
    "\n",
    "if __name__ == \"__main__\":\n",
    "    main()\n"
   ]
  },
  {
   "cell_type": "markdown",
   "id": "ef85d13b",
   "metadata": {},
   "source": [
    "### Задание 3*"
   ]
  },
  {
   "cell_type": "code",
   "execution_count": null,
   "id": "5cbd5a78",
   "metadata": {},
   "outputs": [
    {
     "name": "stdout",
     "output_type": "stream",
     "text": [
      "Access denied\n",
      "OK\n",
      "OK\n",
      "OK\n",
      "OK\n"
     ]
    }
   ],
   "source": [
    "n = int(input())\n",
    "permissions = {}\n",
    "\n",
    "for _ in range(n):\n",
    "  parts = input().split()\n",
    "  filename = parts[0]\n",
    "  perms = set(parts[1:])\n",
    "  permissions[filename] = perms\n",
    "\n",
    "op_map = {'write': 'w', 'read': 'r', 'execute': 'x'}\n",
    "\n",
    "m = int(input())\n",
    "for _ in range(m):\n",
    "  op, filename = input().split()\n",
    "  if op_map[op] in permissions.get(filename, set()):\n",
    "    print(\"OK\")\n",
    "  else:\n",
    "    print(\"Access denied\")"
   ]
  }
 ],
 "metadata": {
  "kernelspec": {
   "display_name": "Python 3",
   "language": "python",
   "name": "python3"
  },
  "language_info": {
   "codemirror_mode": {
    "name": "ipython",
    "version": 3
   },
   "file_extension": ".py",
   "mimetype": "text/x-python",
   "name": "python",
   "nbconvert_exporter": "python",
   "pygments_lexer": "ipython3",
   "version": "3.12.5"
  }
 },
 "nbformat": 4,
 "nbformat_minor": 5
}
